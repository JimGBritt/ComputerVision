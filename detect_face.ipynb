{
 "cells": [
  {
   "cell_type": "markdown",
   "metadata": {},
   "source": [
    "## This script will use Haar Cascades algorithm to detect faces from your webcam stream.\n",
    "### Press 'q' to quit"
   ]
  },
  {
   "cell_type": "code",
   "execution_count": 11,
   "metadata": {},
   "outputs": [],
   "source": [
    "# import the required libraries\n",
    "import numpy as np\n",
    "import cv2 \n",
    "import matplotlib.pyplot as plt\n",
    "%matplotlib inline"
   ]
  },
  {
   "cell_type": "code",
   "execution_count": 19,
   "metadata": {},
   "outputs": [],
   "source": [
    "# load the cascade\n",
    "face_cascade = cv2.CascadeClassifier('.\\haarcascades\\haarcascade_frontalface_default.xml')\n",
    "\n",
    "# this is the main function\n",
    "def detect_face(img):\n",
    "    \n",
    "    face_img = img.copy()\n",
    "#   face_img = cv2.cvtColor(face_img, cv2.COLOR_RGB2GRAY)\n",
    "  \n",
    "    face_rects = face_cascade.detectMultiScale(face_img,scaleFactor=1.2, minNeighbors=5) \n",
    "#   face_rects = face_cascade.detectMultiScale(face_img) \n",
    "\n",
    "    for (x,y,w,h) in face_rects: \n",
    "        cv2.rectangle(face_img, (x,y), (x+w,y+h), (255,255,255), 10) \n",
    "        \n",
    "    return(face_img)\n",
    "    "
   ]
  },
  {
   "cell_type": "code",
   "execution_count": 20,
   "metadata": {},
   "outputs": [],
   "source": [
    "# this is the main body\n",
    "\n",
    "# start the webcam\n",
    "cap = cv2.VideoCapture(0) \n",
    "\n",
    "# loop until 'q' is pressed\n",
    "while True: \n",
    "    \n",
    "    ret, frame = cap.read(0)\n",
    "    frame = cv2.flip(frame, 1)\n",
    "    frame = detect_face(frame)\n",
    " \n",
    "    cv2.imshow('Detect face - q to quit', frame)\n",
    "\n",
    "    if cv2.waitKey(1) & 0xFF == ord('q'):\n",
    "        break\n",
    "\n",
    "#clean up\n",
    "cap.release() \n",
    "cv2.destroyAllWindows()"
   ]
  },
  {
   "cell_type": "code",
   "execution_count": null,
   "metadata": {},
   "outputs": [],
   "source": []
  }
 ],
 "metadata": {
  "kernelspec": {
   "display_name": "Python 3",
   "language": "python",
   "name": "python3"
  },
  "language_info": {
   "codemirror_mode": {
    "name": "ipython",
    "version": 3
   },
   "file_extension": ".py",
   "mimetype": "text/x-python",
   "name": "python",
   "nbconvert_exporter": "python",
   "pygments_lexer": "ipython3",
   "version": "3.6.6"
  }
 },
 "nbformat": 4,
 "nbformat_minor": 2
}
