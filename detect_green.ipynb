{
 "cells": [
  {
   "cell_type": "markdown",
   "metadata": {},
   "source": [
    "## This script will initialize your webcam and detect GREEN objects.\n",
    "### Use 'q' to quit."
   ]
  },
  {
   "cell_type": "code",
   "execution_count": 5,
   "metadata": {},
   "outputs": [],
   "source": [
    "# import required libraries\n",
    "import numpy as np\n",
    "import cv2\n",
    "\n",
    "# create the camera object\n",
    "cam = cv2.VideoCapture(0)\n",
    "\n",
    "while (True):\n",
    "    ret, frame = cam.read()\n",
    "    \n",
    "    # create a mask that is in the range of green \n",
    "    hsv = cv2.cvtColor(frame, cv2.COLOR_BGR2HSV)\n",
    "    image_mask = cv2.inRange(hsv, np.array([40, 50, 50]), np.array([100, 255, 255]))\n",
    "    output = cv2.bitwise_and(frame, frame, mask = image_mask)\n",
    "    \n",
    "    # display both the original feed and the detected (green)\n",
    "    cv2.imshow('Original', frame)\n",
    "    cv2.imshow('Output', output)\n",
    "    \n",
    "    # break out of 'q' is pressed\n",
    "    if cv2.waitKey(1) & 0xFF == ord('q'):\n",
    "        break\n",
    "        \n",
    "# cleanup\n",
    "cv2.destroyAllWindows()\n",
    "cam.release()"
   ]
  },
  {
   "cell_type": "code",
   "execution_count": null,
   "metadata": {},
   "outputs": [],
   "source": []
  }
 ],
 "metadata": {
  "kernelspec": {
   "display_name": "Python 3",
   "language": "python",
   "name": "python3"
  },
  "language_info": {
   "codemirror_mode": {
    "name": "ipython",
    "version": 3
   },
   "file_extension": ".py",
   "mimetype": "text/x-python",
   "name": "python",
   "nbconvert_exporter": "python",
   "pygments_lexer": "ipython3",
   "version": "3.6.6"
  }
 },
 "nbformat": 4,
 "nbformat_minor": 2
}
