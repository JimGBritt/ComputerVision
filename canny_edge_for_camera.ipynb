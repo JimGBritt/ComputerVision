{
 "cells": [
  {
   "cell_type": "code",
   "execution_count": 4,
   "metadata": {},
   "outputs": [],
   "source": [
    "## This script will apply Canny Edge Detection to camera stream\n",
    "# Press 'q' to quit"
   ]
  },
  {
   "cell_type": "code",
   "execution_count": 5,
   "metadata": {},
   "outputs": [],
   "source": [
    "# import the required libraries\n",
    "import cv2\n",
    "import numpy as np\n",
    "import matplotlib.pyplot as plt\n",
    "%matplotlib inline"
   ]
  },
  {
   "cell_type": "code",
   "execution_count": 6,
   "metadata": {},
   "outputs": [],
   "source": [
    "# this is the main function that inputs the frame, applies Canny Edge Detection\n",
    "def canny_edge(img):\n",
    "    img_copy = img.copy()\n",
    "    # Calculate the median pixel value\n",
    "    med_val = np.median(img)\n",
    "   # Lower bound is either 0 or 70% of the median value, whichever is higher\n",
    "    lower = int(max(0, 0.7* med_val)) \n",
    "    # Upper bound is either 255 or 30% above the median value, whichever is lower\n",
    "    upper = int(min(255,1.3 * med_val))\n",
    "    edges = cv2.Canny(image=img_copy, threshold1=lower , threshold2=upper)\n",
    "    return edges"
   ]
  },
  {
   "cell_type": "code",
   "execution_count": 7,
   "metadata": {},
   "outputs": [],
   "source": [
    "# this is the main body\n",
    "\n",
    "# start the webcam\n",
    "cap = cv2.VideoCapture(0) \n",
    "\n",
    "# loop until 'q' is pressed\n",
    "while True: \n",
    "    \n",
    "    ret, frame = cap.read(0) \n",
    "     \n",
    "    frame = canny_edge(frame)\n",
    " \n",
    "    cv2.imshow('Canny Edge', frame) \n",
    " \n",
    "    if cv2.waitKey(1) & 0xFF == ord('q'):\n",
    "        break\n",
    "\n",
    "#clean up\n",
    "cap.release() \n",
    "cv2.destroyAllWindows()"
   ]
  },
  {
   "cell_type": "code",
   "execution_count": null,
   "metadata": {},
   "outputs": [],
   "source": []
  }
 ],
 "metadata": {
  "kernelspec": {
   "display_name": "Python 3",
   "language": "python",
   "name": "python3"
  },
  "language_info": {
   "codemirror_mode": {
    "name": "ipython",
    "version": 3
   },
   "file_extension": ".py",
   "mimetype": "text/x-python",
   "name": "python",
   "nbconvert_exporter": "python",
   "pygments_lexer": "ipython3",
   "version": "3.6.6"
  }
 },
 "nbformat": 4,
 "nbformat_minor": 2
}
